{
 "cells": [
  {
   "cell_type": "code",
   "execution_count": null,
   "metadata": {},
   "outputs": [],
   "source": [
    "import gymGharrafa"
   ]
  },
  {
   "cell_type": "code",
   "execution_count": null,
   "metadata": {},
   "outputs": [],
   "source": [
    "import gym"
   ]
  },
  {
   "cell_type": "code",
   "execution_count": null,
   "metadata": {},
   "outputs": [],
   "source": [
    "from tensorboardX import SummaryWriter\n",
    "import ptan\n",
    "import common\n",
    "\n",
    "import torch\n",
    "import torch.nn as nn\n",
    "import torch.nn.utils as nn_utils\n",
    "import torch.nn.functional as F\n",
    "import torch.optim as optim\n",
    "\n",
    "import numpy as np"
   ]
  },
  {
   "cell_type": "code",
   "execution_count": null,
   "metadata": {},
   "outputs": [],
   "source": [
    "GAMMA = 0.99\n",
    "LEARNING_RATE = 0.00001\n",
    "ENTROPY_BETA = 0.001\n",
    "NUM_ENVS = 1\n",
    "\n",
    "REWARD_STEPS = 10\n",
    "CLIP_GRAD = 0.9"
   ]
  },
  {
   "cell_type": "code",
   "execution_count": null,
   "metadata": {},
   "outputs": [],
   "source": [
    "class NetPG(nn.Module):\n",
    "    def __init__(self, input_size, n_actions):\n",
    "        super(NetPG, self).__init__()\n",
    "\n",
    "        self.net = nn.Sequential(\n",
    "            nn.Linear(input_size, 512),\n",
    "            nn.ReLU(),\n",
    "            nn.Linear(512, n_actions)\n",
    "        )\n",
    "\n",
    "    def forward(self, x):\n",
    "        return self.net(x)"
   ]
  },
  {
   "cell_type": "code",
   "execution_count": null,
   "metadata": {},
   "outputs": [],
   "source": [
    "name = \"Train_PG_timecritic_entropy001_Gt_mobavg_noclip_00001lr\"\n",
    "device = torch.device('cuda:0')"
   ]
  },
  {
   "cell_type": "code",
   "execution_count": null,
   "metadata": {},
   "outputs": [],
   "source": [
    "env = gym.make(\"gymGharrafa-v0\")\n",
    "writer = SummaryWriter(comment=\"Gharrafa_\" + name)\n",
    "net = NetPG(env.observation_space.shape[1], env.action_space.n).to(device)\n",
    "print(net)\n",
    "\n",
    "optimizer = optim.Adam(net.parameters(), lr=LEARNING_RATE)"
   ]
  },
  {
   "cell_type": "code",
   "execution_count": null,
   "metadata": {},
   "outputs": [],
   "source": [
    "n_actions = 11\n",
    "env.reset()\n",
    "obs = env.reset()\n",
    "#get first state\n",
    "obsTensor = torch.FloatTensor(np.expand_dims(obs, axis=0)).to(device)"
   ]
  },
  {
   "cell_type": "code",
   "execution_count": null,
   "metadata": {},
   "outputs": [],
   "source": [
    "nsteps = 10\n",
    "meanG=0\n",
    "done_episodes = 0\n",
    "nreward_sum = 0\n",
    "return_sum = 0\n",
    "idx = 0\n",
    "baseline = 0\n",
    "action_set = range(n_actions)\n",
    "GtAcc = np.zeros(500)\n",
    "vGt = np.zeros(500)\n",
    "\n",
    "while meanG < 3000:\n",
    "    episode_over = False\n",
    "    timestep = 0\n",
    "    step_rewards = []\n",
    "    step_states = []\n",
    "    step_actions = []\n",
    "    while(not episode_over):\n",
    "        #get action\n",
    "        logits_v = net(obsTensor)[0]\n",
    "        softmax = F.softmax(logits_v)\n",
    "        \n",
    "        step_states.append(obsTensor)\n",
    "        \n",
    "        #select the action randomly following distribution from softmax\n",
    "        action = np.random.choice(action_set,p=softmax.detach().cpu().numpy())\n",
    "        obs,reward,episode_over,additional = env.step(action)\n",
    "        step_actions.append(action)\n",
    "        obsTensor = torch.FloatTensor(np.expand_dims(obs, axis=0)).to(device)\n",
    "        \n",
    "        step_rewards.append(reward)\n",
    "        \n",
    "    done_episodes += 1\n",
    "    \n",
    "    G = np.sum(step_rewards)\n",
    "    if G < 20:\n",
    "        print(\"Check SUMO for errors: reward too low.\")\n",
    "        break\n",
    "        \n",
    "    return_sum += G\n",
    "    meanG = return_sum/done_episodes\n",
    "    \n",
    "    writer.add_scalar(\"return_mean\", meanG, done_episodes)\n",
    "    writer.add_scalar(\"return\", G, done_episodes)\n",
    "    writer.add_scalar(\"episode_length\", len(step_rewards), done_episodes)\n",
    "    \n",
    "    \n",
    "    accR = 0\n",
    "    \n",
    "    for t,R in enumerate(step_rewards):\n",
    "        idx += 1\n",
    "        #batch_delta =\n",
    "        \n",
    "        Gt = np.sum(step_rewards[t:])\n",
    "        GtAcc[t] += Gt\n",
    "        \n",
    "        \n",
    "        \n",
    "        delta = torch.FloatTensor([Gt-vGt[t]]).to(device)\n",
    "        \n",
    "\n",
    "        if vGt[t] == 0 :\n",
    "            vGt[t] = Gt\n",
    "        else:\n",
    "            vGt[t] = 0.5*vGt[t] + 0.5*Gt\n",
    "        \n",
    "        writer.add_scalar(\"baseline\", vGt[0], done_episodes)\n",
    "            \n",
    "        \n",
    "        optimizer.zero_grad()\n",
    "        \n",
    "        \n",
    "        logits_v = net(step_states[t])\n",
    "        \n",
    "        log_prob_v = F.log_softmax(logits_v)\n",
    "        \n",
    "        log_prob_actions_v = delta * log_prob_v[0,step_actions[t]]\n",
    "        loss_policy_v = -log_prob_actions_v.mean()\n",
    "        \n",
    "        prob_v = F.softmax(logits_v, dim=1)\n",
    "        entropy_v = -(prob_v * log_prob_v).sum(dim=1).mean()\n",
    "        entropy_loss_v = -ENTROPY_BETA * entropy_v\n",
    "        \n",
    "        loss_v = loss_policy_v + entropy_loss_v\n",
    "\n",
    "        loss_v.backward()\n",
    "\n",
    "        optimizer.step()\n",
    "    \n",
    "    print(\"Episode %d ended with return %2f. Average is %2f. Last timestep %2f.\" % (done_episodes,G,meanG,additional[\"time\"]))\n",
    "    "
   ]
  }
 ],
 "metadata": {
  "kernelspec": {
   "display_name": "Python 3",
   "language": "python",
   "name": "python3"
  },
  "language_info": {
   "codemirror_mode": {
    "name": "ipython",
    "version": 3
   },
   "file_extension": ".py",
   "mimetype": "text/x-python",
   "name": "python",
   "nbconvert_exporter": "python",
   "pygments_lexer": "ipython3",
   "version": "3.7.3"
  }
 },
 "nbformat": 4,
 "nbformat_minor": 2
}
